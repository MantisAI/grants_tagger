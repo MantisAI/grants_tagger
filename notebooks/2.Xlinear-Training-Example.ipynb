{
 "cells": [
  {
   "cell_type": "code",
   "execution_count": 1,
   "id": "8770e086-bf47-4a9e-9b9d-e957bbe4f22e",
   "metadata": {},
   "outputs": [],
   "source": [
    "%load_ext autoreload\n",
    "%autoreload 2\n",
    "\n",
    "import json\n",
    "\n",
    "from grants_tagger.slim.mesh_xlinear import train_and_evaluate"
   ]
  },
  {
   "cell_type": "code",
   "execution_count": 2,
   "id": "00d591ca",
   "metadata": {},
   "outputs": [],
   "source": [
    "parameters = {\n",
    "    'ngram_range': (1, 1), \n",
    "    'beam_size': 30, \n",
    "    'only_topk': 200, \n",
    "    'min_weight_value': 0.1,\n",
    "    'max_features': 400_000\n",
    "}"
   ]
  },
  {
   "cell_type": "code",
   "execution_count": null,
   "id": "cb8d622e",
   "metadata": {},
   "outputs": [
    {
     "name": "stdout",
     "output_type": "stream",
     "text": [
      "ok"
     ]
    }
   ],
   "source": [
    "!curl -X POST -H 'Content-type: application/json' --data \"{'text': 'Hi <$SLACK_USER>, training has started'}\" $SLACK_HOOK\n",
    "\n",
    "model = train_and_evaluate(\n",
    "    train_data_path='../data/processed/train_mesh2021.jsonl',\n",
    "    test_data_path='../data/processed/test_mesh2021.jsonl',\n",
    "    label_binarizer_path='../models/xlinear-full-test/label_binarizer.pkl',\n",
    "    model_path='../models/xlinear-toy',\n",
    "    results_path='../results/xlinear-full-test',\n",
    "    full_report_path='../results/mesh_xlinear_full_full_report.json'\n",
    ")\n",
    "\n",
    "!curl -X POST -H 'Content-type: application/json' --data \"{'text': 'Hi <$SLACK_USER>, training has finished'}\" $SLACK_HOOK"
   ]
  },
  {
   "cell_type": "code",
   "execution_count": null,
   "id": "eb8f4c7b",
   "metadata": {},
   "outputs": [],
   "source": [
    "with open('../results/mesh_xlinear.json', 'r') as f:\n",
    "    results = json.load(f)"
   ]
  },
  {
   "cell_type": "code",
   "execution_count": null,
   "id": "891803ef",
   "metadata": {},
   "outputs": [],
   "source": [
    "results"
   ]
  }
 ],
 "metadata": {
  "kernelspec": {
   "display_name": "Python 3 (ipykernel)",
   "language": "python",
   "name": "python3"
  },
  "language_info": {
   "codemirror_mode": {
    "name": "ipython",
    "version": 3
   },
   "file_extension": ".py",
   "mimetype": "text/x-python",
   "name": "python",
   "nbconvert_exporter": "python",
   "pygments_lexer": "ipython3",
   "version": "3.8.0"
  }
 },
 "nbformat": 4,
 "nbformat_minor": 5
}
