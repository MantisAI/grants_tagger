{
 "cells": [
  {
   "cell_type": "code",
   "execution_count": 23,
   "id": "8770e086-bf47-4a9e-9b9d-e957bbe4f22e",
   "metadata": {},
   "outputs": [
    {
     "name": "stdout",
     "output_type": "stream",
     "text": [
      "The autoreload extension is already loaded. To reload it, use:\n",
      "  %reload_ext autoreload\n"
     ]
    }
   ],
   "source": [
    "%load_ext autoreload\n",
    "%autoreload 2\n",
    "\n",
    "import json\n",
    "\n",
    "from grants_tagger.slim.mesh_xlinear import train, evaluate"
   ]
  },
  {
   "cell_type": "markdown",
   "id": "2094c0d5",
   "metadata": {},
   "source": [
    "## 1. Train Xlinear model (for fast iteration/experimentation/etc)\n",
    "\n",
    "This notebook trains xlinear models for fast experimentation. To get the toy data, you need to run dvc from the root of folder:\n",
    "\n",
    "`dvc pull -s dvc.yaml:preprocess_bioasq_mesh_toy`\n",
    "\n",
    "Replace `train_mesh2021_toy` and `test_mesh2021_toy` without the suffix (`{train,test}_mesh2021.jsonl`) for a full experience of training (see training times in `results`)"
   ]
  },
  {
   "cell_type": "code",
   "execution_count": 41,
   "id": "00d591ca",
   "metadata": {},
   "outputs": [],
   "source": [
    "parameters = {\n",
    "    'ngram_range': (1, 1), \n",
    "    'beam_size': 30,\n",
    "    'only_topk': 200, \n",
    "    'min_weight_value': 0.1,\n",
    "    'max_features': 400_000\n",
    "}"
   ]
  },
  {
   "cell_type": "code",
   "execution_count": 25,
   "id": "ac245c08",
   "metadata": {},
   "outputs": [
    {
     "name": "stdout",
     "output_type": "stream",
     "text": [
      "ok"
     ]
    }
   ],
   "source": [
    "!curl -X POST -H 'Content-type: application/json' --data \"{'text': 'Hi <$SLACK_USER>, training has started'}\" $SLACK_HOOK"
   ]
  },
  {
   "cell_type": "code",
   "execution_count": 29,
   "id": "f02f9134",
   "metadata": {},
   "outputs": [
    {
     "name": "stdout",
     "output_type": "stream",
     "text": [
      "../models/xlinear-toy-test/label_binarizer.pkl exists. Loading existing\n",
      "Loading data...\n",
      "Fitting model\n",
      "Saving model\n"
     ]
    }
   ],
   "source": [
    "model, label_binarizer = train(\n",
    "    train_data_path='../data/processed/train_mesh2021_toy.jsonl',\n",
    "    label_binarizer_path='../models/label_binarizer-toy.pkl',\n",
    "    parameters=parameters,\n",
    "    model_path='../models/xlinear-toy'\n",
    ")"
   ]
  },
  {
   "cell_type": "code",
   "execution_count": 36,
   "id": "128440b8",
   "metadata": {},
   "outputs": [
    {
     "name": "stdout",
     "output_type": "stream",
     "text": [
      "Loading data...\n",
      "Loading data...\n",
      "Evaluating model\n"
     ]
    },
    {
     "name": "stderr",
     "output_type": "stream",
     "text": [
      "/data/grants_tagger/venv/lib/python3.8/site-packages/sklearn/preprocessing/_label.py:994: UserWarning: unknown class(es) ['Chikungunya Fever', 'Chikungunya virus', 'Continuous Positive Airway Pressure', 'Data Analysis', 'Dermatitis, Occupational', 'Drug Administration Schedule', 'Lupus Erythematosus, Systemic', 'Measles', 'Measles Vaccine', 'Printing, Three-Dimensional', 'Psychometrics', \"Sjogren's Syndrome\", 'Skin Diseases', 'Zika Virus', 'Zika Virus Infection'] will be ignored\n",
      "  warnings.warn('unknown class(es) {0} will be ignored'\n",
      "/data/grants_tagger/venv/lib/python3.8/site-packages/sklearn/metrics/_classification.py:1221: UndefinedMetricWarning: Precision and F-score are ill-defined and being set to 0.0 in labels with no predicted samples. Use `zero_division` parameter to control this behavior.\n",
      "  _warn_prf(average, modifier, msg_start, len(result))\n",
      "/data/grants_tagger/venv/lib/python3.8/site-packages/sklearn/metrics/_classification.py:1221: UndefinedMetricWarning: Recall and F-score are ill-defined and being set to 0.0 in labels with no true samples. Use `zero_division` parameter to control this behavior.\n",
      "  _warn_prf(average, modifier, msg_start, len(result))\n"
     ]
    }
   ],
   "source": [
    "results, full_report = evaluate(\n",
    "    model,\n",
    "    label_binarizer,\n",
    "    train_data_path='../data/processed/train_mesh2021_toy.jsonl',\n",
    "    test_data_path='../data/processed/test_mesh2021_toy.jsonl',\n",
    "    results_path='../results/results_toy.json',\n",
    "    full_report_path='../results/full_report_toy.json'\n",
    ")"
   ]
  },
  {
   "cell_type": "code",
   "execution_count": 37,
   "id": "bd646547",
   "metadata": {},
   "outputs": [
    {
     "data": {
      "text/plain": [
       "{'threshold': '0.50', 'precision': '0.88', 'recall': '0.45', 'f1': '0.59'}"
      ]
     },
     "execution_count": 37,
     "metadata": {},
     "output_type": "execute_result"
    }
   ],
   "source": [
    "results"
   ]
  },
  {
   "cell_type": "code",
   "execution_count": 39,
   "id": "d959151f",
   "metadata": {},
   "outputs": [
    {
     "data": {
      "text/plain": [
       "{'precision': 0.0, 'recall': 0.0, 'f1-score': 0.0, 'support': 0}"
      ]
     },
     "execution_count": 39,
     "metadata": {},
     "output_type": "execute_result"
    }
   ],
   "source": [
    "full_report['Coronavirus']"
   ]
  },
  {
   "cell_type": "code",
   "execution_count": 40,
   "id": "d0dbb703",
   "metadata": {},
   "outputs": [
    {
     "name": "stdout",
     "output_type": "stream",
     "text": [
      "ok"
     ]
    }
   ],
   "source": [
    "!curl -X POST -H 'Content-type: application/json' --data \"{'text': 'Hi <$SLACK_USER>, training has finished'}\" $SLACK_HOOK"
   ]
  }
 ],
 "metadata": {
  "kernelspec": {
   "display_name": "Python 3 (ipykernel)",
   "language": "python",
   "name": "python3"
  },
  "language_info": {
   "codemirror_mode": {
    "name": "ipython",
    "version": 3
   },
   "file_extension": ".py",
   "mimetype": "text/x-python",
   "name": "python",
   "nbconvert_exporter": "python",
   "pygments_lexer": "ipython3",
   "version": "3.8.0"
  }
 },
 "nbformat": 4,
 "nbformat_minor": 5
}
