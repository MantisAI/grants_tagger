{
 "cells": [
  {
   "cell_type": "markdown",
   "id": "1fb2f541",
   "metadata": {},
   "source": [
    "# Retraining XLinear on MeSH tags used by Wellcome"
   ]
  },
  {
   "cell_type": "markdown",
   "id": "674fce6c",
   "metadata": {},
   "source": [
    "## 1. How many labels are actually used in training?"
   ]
  },
  {
   "cell_type": "code",
   "execution_count": 1,
   "id": "ba6ecd03",
   "metadata": {},
   "outputs": [],
   "source": [
    "import json\n",
    "\n",
    "input_path = \"/data/grants_tagger/data/raw/allMeSH_2021.json\"\n",
    "\n",
    "\n",
    "def yield_raw_data(input_path):\n",
    "    with open(input_path, encoding=\"latin-1\") as f_i:\n",
    "        f_i.readline()  # skip first line ({\"articles\":[) which is not valid JSON\n",
    "        for i, line in enumerate(f_i):\n",
    "            item = json.loads(line[:-2])\n",
    "            yield item\n",
    "\n",
    "\n",
    "input_data = yield_raw_data(input_path)"
   ]
  },
  {
   "cell_type": "markdown",
   "id": "ebf18dd6",
   "metadata": {},
   "source": [
    "### number of Mesh terms used in the training set"
   ]
  },
  {
   "cell_type": "code",
   "execution_count": 2,
   "id": "6af21409",
   "metadata": {},
   "outputs": [],
   "source": [
    "mesh_in_training = []\n",
    "\n",
    "for line in input_data:\n",
    "    mesh_in_training.extend(line[\"meshMajor\"])"
   ]
  },
  {
   "cell_type": "code",
   "execution_count": 3,
   "id": "3cc5d788",
   "metadata": {},
   "outputs": [],
   "source": [
    "mesh_training_labels = list(set(mesh_in_training))"
   ]
  },
  {
   "cell_type": "code",
   "execution_count": 4,
   "id": "660ca417",
   "metadata": {
    "scrolled": true
   },
   "outputs": [
    {
     "data": {
      "text/plain": [
       "29369"
      ]
     },
     "execution_count": 4,
     "metadata": {},
     "output_type": "execute_result"
    }
   ],
   "source": [
    "len(mesh_training_labels)"
   ]
  },
  {
   "cell_type": "markdown",
   "id": "7656e98f",
   "metadata": {},
   "source": [
    "## 2. How many labels are used in Wellcome?"
   ]
  },
  {
   "cell_type": "code",
   "execution_count": 17,
   "id": "b3a87414",
   "metadata": {},
   "outputs": [],
   "source": [
    "wellcome_labels_path = \"../data/processed/WT_mesh_tags_used/tags_used.txt\""
   ]
  },
  {
   "cell_type": "code",
   "execution_count": 28,
   "id": "d1dafb88",
   "metadata": {},
   "outputs": [],
   "source": [
    "with open(wellcome_labels_path, \"r\") as fp:\n",
    "    y = fp.readlines()\n",
    "\n",
    "wellcome_labels = [label.split(\"\\n\")[0] for label in y]"
   ]
  },
  {
   "cell_type": "code",
   "execution_count": 39,
   "id": "8770e086-bf47-4a9e-9b9d-e957bbe4f22e",
   "metadata": {},
   "outputs": [
    {
     "name": "stdout",
     "output_type": "stream",
     "text": [
      " there are 25252 labels both in training and used by Wellcome\n",
      " 25252 labels are used by Wellcome\n",
      " which means 0.14018182437263782 aren't used\n"
     ]
    }
   ],
   "source": [
    "print(\n",
    "    f\" there are {len(set(wellcome_labels).intersection(set(mesh_training_labels)))} labels both in training and used by Wellcome\"\n",
    ")\n",
    "print(f\" {len(set(wellcome_labels))} labels are used by Wellcome\")\n",
    "\n",
    "print(\n",
    "    f\" which means {1-len(set(wellcome_labels))/len(mesh_training_labels)} aren't used\"\n",
    ")"
   ]
  },
  {
   "cell_type": "markdown",
   "id": "5e1d55d9",
   "metadata": {},
   "source": [
    "## 3. create an csv with terms we would like to keep"
   ]
  },
  {
   "cell_type": "code",
   "execution_count": 41,
   "id": "9fea47ab",
   "metadata": {},
   "outputs": [],
   "source": [
    "pd.DataFrame(wellcome_labels, columns=[\"DescriptorName\"]).to_csv(\n",
    "    \"../data/processed/wt_tags_used.csv\"\n",
    ")"
   ]
  },
  {
   "cell_type": "markdown",
   "id": "2094c0d5",
   "metadata": {},
   "source": [
    "## 1. Train Xlinear model (for fast iteration/experimentation/etc)\n",
    "\n",
    "This notebook trains xlinear models for fast experimentation. To get the toy data, you need to run dvc from the root of folder:\n",
    "\n",
    "`dvc pull -s dvc.yaml:preprocess_bioasq_mesh_toy`\n",
    "\n",
    "Replace `train_mesh2021_toy` and `test_mesh2021_toy` without the suffix (`{train,test}_mesh2021.jsonl`) for a full experience of training (see training times in `results`)"
   ]
  },
  {
   "cell_type": "code",
   "execution_count": 2,
   "id": "00d591ca",
   "metadata": {},
   "outputs": [],
   "source": [
    "parameters = {\n",
    "    \"ngram_range\": (1, 1),\n",
    "    \"beam_size\": 30,\n",
    "    \"only_topk\": 200,\n",
    "    \"min_weight_value\": 0.1,\n",
    "    \"max_features\": 400_000,\n",
    "}"
   ]
  },
  {
   "cell_type": "code",
   "execution_count": 1,
   "id": "ac245c08",
   "metadata": {},
   "outputs": [
    {
     "name": "stdout",
     "output_type": "stream",
     "text": [
      "ok"
     ]
    }
   ],
   "source": [
    "!curl -X POST -H 'Content-type: application/json' --data \"{'text': 'Hi <$SLACK_USER>, training has started'}\" $SLACK_HOOK"
   ]
  },
  {
   "cell_type": "code",
   "execution_count": 3,
   "id": "f02f9134",
   "metadata": {},
   "outputs": [
    {
     "name": "stdout",
     "output_type": "stream",
     "text": [
      "../models/xlinear/label_binarizer.pkl exists. Loading existing\n",
      "Loading data...\n",
      "Fitting model\n",
      "Saving model\n"
     ]
    }
   ],
   "source": [
    "model, label_binarizer = train(\n",
    "    # uncomment for toy data\n",
    "    #     train_data_path='../data/processed/train_mesh2021_toy.jsonl',\n",
    "    #     label_binarizer_path='../models/label_binarizer-toy.pkl',\n",
    "    #     parameters=parameters,\n",
    "    #     model_path='../models/xlinear-toy'\n",
    "    # uncomment for real data\n",
    "    train_data_path=\"../data/processed/train_mesh2021.jsonl\",\n",
    "    label_binarizer_path=\"../models/xlinear/label_binarizer.pkl\",\n",
    "    parameters=parameters,\n",
    "    model_path=\"../models/xlinear\",\n",
    ")"
   ]
  },
  {
   "cell_type": "code",
   "execution_count": 4,
   "id": "128440b8",
   "metadata": {},
   "outputs": [
    {
     "name": "stdout",
     "output_type": "stream",
     "text": [
      "Loading data...\n",
      "Loading data...\n",
      "Evaluating model\n"
     ]
    },
    {
     "name": "stderr",
     "output_type": "stream",
     "text": [
      "/data/grants_tagger/venv/lib/python3.8/site-packages/sklearn/metrics/_classification.py:1221: UndefinedMetricWarning: Precision and F-score are ill-defined and being set to 0.0 in labels with no predicted samples. Use `zero_division` parameter to control this behavior.\n",
      "  _warn_prf(average, modifier, msg_start, len(result))\n",
      "/data/grants_tagger/venv/lib/python3.8/site-packages/sklearn/metrics/_classification.py:1221: UndefinedMetricWarning: Recall and F-score are ill-defined and being set to 0.0 in labels with no true samples. Use `zero_division` parameter to control this behavior.\n",
      "  _warn_prf(average, modifier, msg_start, len(result))\n",
      "/data/grants_tagger/venv/lib/python3.8/site-packages/sklearn/metrics/_classification.py:1221: UndefinedMetricWarning: Precision and F-score are ill-defined and being set to 0.0 in samples with no predicted labels. Use `zero_division` parameter to control this behavior.\n",
      "  _warn_prf(average, modifier, msg_start, len(result))\n"
     ]
    }
   ],
   "source": [
    "results, full_report = evaluate(\n",
    "    # uncomment for toy data\n",
    "    #     model,\n",
    "    #     label_binarizer,\n",
    "    #     train_data_path='../data/processed/train_mesh2021_toy.jsonl',\n",
    "    #     test_data_path='../data/processed/test_mesh2021_toy.jsonl',\n",
    "    #     results_path='../results/results_toy.json',\n",
    "    #     full_report_path='../results/full_report_toy.json'\n",
    "    # uncomment for full data\n",
    "    model,\n",
    "    label_binarizer,\n",
    "    train_data_path=\"../data/processed/train_mesh2021.jsonl\",\n",
    "    test_data_path=\"../data/processed/test_mesh2021.jsonl\",\n",
    "    results_path=\"../results/results_20220916.json\",\n",
    "    full_report_path=\"../results/full_report.json\",\n",
    ")"
   ]
  },
  {
   "cell_type": "code",
   "execution_count": 5,
   "id": "bd646547",
   "metadata": {},
   "outputs": [
    {
     "data": {
      "text/plain": [
       "{'threshold': '0.50', 'precision': '0.74', 'recall': '0.41', 'f1': '0.53'}"
      ]
     },
     "execution_count": 5,
     "metadata": {},
     "output_type": "execute_result"
    }
   ],
   "source": [
    "results"
   ]
  },
  {
   "cell_type": "code",
   "execution_count": 6,
   "id": "d959151f",
   "metadata": {},
   "outputs": [
    {
     "data": {
      "text/plain": [
       "{'precision': 0.0, 'recall': 0.0, 'f1-score': 0.0, 'support': 16}"
      ]
     },
     "execution_count": 6,
     "metadata": {},
     "output_type": "execute_result"
    }
   ],
   "source": [
    "full_report[\"Coronavirus\"]"
   ]
  },
  {
   "cell_type": "code",
   "execution_count": 40,
   "id": "d0dbb703",
   "metadata": {
    "scrolled": true
   },
   "outputs": [
    {
     "name": "stdout",
     "output_type": "stream",
     "text": [
      "ok"
     ]
    }
   ],
   "source": [
    "!curl -X POST -H 'Content-type: application/json' --data \"{'text': 'Hi <$SLACK_USER>, training has finished'}\" $SLACK_HOOK"
   ]
  },
  {
   "cell_type": "code",
   "execution_count": 4,
   "id": "792b8656",
   "metadata": {
    "scrolled": true
   },
   "outputs": [
    {
     "name": "stdout",
     "output_type": "stream",
     "text": [
      "ok"
     ]
    }
   ],
   "source": [
    "!curl -X POST -H 'Content-type: application/json' --data \"{'text': 'Hi <$SLACK_USER>, I think I am developing consciousness'}\" $SLACK_HOOK"
   ]
  },
  {
   "cell_type": "code",
   "execution_count": null,
   "id": "f2895493",
   "metadata": {},
   "outputs": [],
   "source": []
  }
 ],
 "metadata": {
  "kernelspec": {
   "display_name": "grants_tagger_kernel",
   "language": "python",
   "name": "grants_tagger_kernel"
  },
  "language_info": {
   "codemirror_mode": {
    "name": "ipython",
    "version": 3
   },
   "file_extension": ".py",
   "mimetype": "text/x-python",
   "name": "python",
   "nbconvert_exporter": "python",
   "pygments_lexer": "ipython3",
   "version": "3.8.15"
  }
 },
 "nbformat": 4,
 "nbformat_minor": 5
}
